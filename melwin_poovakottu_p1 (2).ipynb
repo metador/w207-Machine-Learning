{
 "cells": [
  {
   "cell_type": "markdown",
   "metadata": {},
   "source": [
    "# Project 1: Digit Classification with KNN and Naive Bayes"
   ]
  },
  {
   "cell_type": "markdown",
   "metadata": {},
   "source": [
    "In this project, you'll implement your own image recognition system for classifying digits. Read through the code and the instructions carefully and add your own code where indicated. Each problem can be addressed succinctly with the included packages -- please don't add any more. Grading will be based on writing clean, commented code, along with a few short answers.\n",
    "\n",
    "As always, you're welcome to work on the project in groups and discuss ideas on the course wall, but <b> please prepare your own write-up (with your own code). </b>\n",
    "\n",
    "If you're interested, check out these links related to digit recognition:\n",
    "\n",
    "Yann Lecun's MNIST benchmarks: http://yann.lecun.com/exdb/mnist/\n",
    "\n",
    "Stanford Streetview research and data: http://ufldl.stanford.edu/housenumbers/"
   ]
  },
  {
   "cell_type": "code",
   "execution_count": 23,
   "metadata": {
    "collapsed": true
   },
   "outputs": [],
   "source": [
    "# This tells matplotlib not to try opening a new window for each plot.\n",
    "%matplotlib inline\n",
    "\n",
    "# Import a bunch of libraries.\n",
    "import time\n",
    "import numpy as np\n",
    "import matplotlib.pyplot as plt\n",
    "from matplotlib.ticker import MultipleLocator\n",
    "from sklearn.pipeline import Pipeline\n",
    "from sklearn.datasets import fetch_mldata\n",
    "from sklearn.neighbors import KNeighborsClassifier\n",
    "from sklearn.metrics import confusion_matrix\n",
    "from sklearn.linear_model import LinearRegression\n",
    "from sklearn.naive_bayes import BernoulliNB\n",
    "from sklearn.naive_bayes import MultinomialNB\n",
    "from sklearn.naive_bayes import GaussianNB\n",
    "from sklearn.grid_search import GridSearchCV\n",
    "from sklearn.metrics import classification_report\n",
    "\n",
    "\n",
    "# Set the randomizer seed so results are the same each time.\n",
    "np.random.seed(0)"
   ]
  },
  {
   "cell_type": "markdown",
   "metadata": {},
   "source": [
    "Load the data. Notice that we are splitting the data into training, development, and test. We also have a small subset of the training data called mini_train_data and mini_train_labels that you should use in all the experiments below, unless otherwise noted."
   ]
  },
  {
   "cell_type": "code",
   "execution_count": 4,
   "metadata": {},
   "outputs": [
    {
     "name": "stdout",
     "output_type": "stream",
     "text": [
      "data shape:  (70000, 784)\n",
      "label shape: (70000,)\n"
     ]
    }
   ],
   "source": [
    "# Load the digit data either from mldata.org, or once downloaded to data_home, from disk. The data is about 53MB so this cell\n",
    "# should take a while the first time your run it.\n",
    "mnist = fetch_mldata('MNIST original', data_home='~/datasets/mnist')\n",
    "X, Y = mnist.data, mnist.target\n",
    "\n",
    "# Rescale grayscale values to [0,1].\n",
    "X = X / 255.0\n",
    "\n",
    "# Shuffle the input: create a random permutation of the integers between 0 and the number of data points and apply this\n",
    "# permutation to X and Y.\n",
    "# NOTE: Each time you run this cell, you'll re-shuffle the data, resulting in a different ordering.\n",
    "shuffle = np.random.permutation(np.arange(X.shape[0]))\n",
    "X, Y = X[shuffle], Y[shuffle]\n",
    "\n",
    "print 'data shape: ', X.shape\n",
    "print 'label shape:', Y.shape\n",
    "\n",
    "# Set some variables to hold test, dev, and training data.\n",
    "test_data, test_labels = X[61000:], Y[61000:]\n",
    "dev_data, dev_labels = X[60000:61000], Y[60000:61000]\n",
    "train_data, train_labels = X[:60000], Y[:60000]\n",
    "mini_train_data, mini_train_labels = X[:1000], Y[:1000]"
   ]
  },
  {
   "cell_type": "markdown",
   "metadata": {},
   "source": [
    "(1) Create a 10x10 grid to visualize 10 examples of each digit. Python hints:\n",
    "\n",
    "- plt.rc() for setting the colormap, for example to black and white\n",
    "- plt.subplot() for creating subplots\n",
    "- plt.imshow() for rendering a matrix\n",
    "- np.array.reshape() for reshaping a 1D feature vector into a 2D matrix (for rendering)"
   ]
  },
  {
   "cell_type": "code",
   "execution_count": 85,
   "metadata": {},
   "outputs": [
    {
     "ename": "AttributeError",
     "evalue": "'module' object has no attribute 'set_yticks'",
     "output_type": "error",
     "traceback": [
      "\u001b[0;31m---------------------------------------------------------------------------\u001b[0m",
      "\u001b[0;31mAttributeError\u001b[0m                            Traceback (most recent call last)",
      "\u001b[0;32m<ipython-input-85-9c38267d068d>\u001b[0m in \u001b[0;36m<module>\u001b[0;34m()\u001b[0m\n\u001b[1;32m      5\u001b[0m \u001b[0mplt\u001b[0m\u001b[0;34m.\u001b[0m\u001b[0mrc\u001b[0m\u001b[0;34m(\u001b[0m\u001b[0;34m'image'\u001b[0m\u001b[0;34m,\u001b[0m\u001b[0mcmap\u001b[0m\u001b[0;34m=\u001b[0m\u001b[0;34m'gray_r'\u001b[0m\u001b[0;34m)\u001b[0m\u001b[0;34m\u001b[0m\u001b[0m\n\u001b[1;32m      6\u001b[0m \u001b[0mplt\u001b[0m\u001b[0;34m.\u001b[0m\u001b[0mfigure\u001b[0m\u001b[0;34m(\u001b[0m\u001b[0mfigsize\u001b[0m\u001b[0;34m=\u001b[0m\u001b[0;34m(\u001b[0m\u001b[0;36m15\u001b[0m\u001b[0;34m,\u001b[0m\u001b[0;36m15\u001b[0m\u001b[0;34m)\u001b[0m\u001b[0;34m)\u001b[0m\u001b[0;34m\u001b[0m\u001b[0m\n\u001b[0;32m----> 7\u001b[0;31m \u001b[0mplt\u001b[0m\u001b[0;34m.\u001b[0m\u001b[0mset_yticks\u001b[0m\u001b[0;34m(\u001b[0m\u001b[0;34m[\u001b[0m\u001b[0;34m]\u001b[0m\u001b[0;34m)\u001b[0m\u001b[0;34m\u001b[0m\u001b[0m\n\u001b[0m\u001b[1;32m      8\u001b[0m \u001b[0mplt\u001b[0m\u001b[0;34m.\u001b[0m\u001b[0mset_xticks\u001b[0m\u001b[0;34m(\u001b[0m\u001b[0;34m[\u001b[0m\u001b[0;34m]\u001b[0m\u001b[0;34m)\u001b[0m\u001b[0;34m\u001b[0m\u001b[0m\n\u001b[1;32m      9\u001b[0m \u001b[0;32mdef\u001b[0m \u001b[0mP1\u001b[0m\u001b[0;34m(\u001b[0m\u001b[0mnum_examples\u001b[0m\u001b[0;34m)\u001b[0m\u001b[0;34m:\u001b[0m\u001b[0;34m\u001b[0m\u001b[0m\n",
      "\u001b[0;31mAttributeError\u001b[0m: 'module' object has no attribute 'set_yticks'"
     ]
    },
    {
     "data": {
      "text/plain": [
       "<matplotlib.figure.Figure at 0x9eeb9bcc>"
      ]
     },
     "metadata": {},
     "output_type": "display_data"
    }
   ],
   "source": [
    "#print X[1]\n",
    "#print np.ndim( mini_train_labels)\n",
    "\n",
    "mini_train_labels[7]\n",
    "plt.rc('image',cmap='gray_r')\n",
    "plt.figure(figsize=(15,15))\n",
    "def P1(num_examples):\n",
    "\n",
    "### STUDENT START ###\n",
    "    num_index=[]\n",
    "    f,arr_index = plt.subplots(num_examples,num_examples,figsize=(15,15))\n",
    "    for i in (range(10)):\n",
    "        num_index=np.where(mini_train_labels == i)  ## looking for the index for numbers 0-9\n",
    "        for j in range(num_examples):\n",
    "            arr_index[i,j].imshow(mini_train_data[num_index[0][j]].reshape(28,28))\n",
    "            arr_index[i,j].set_yticks([])\n",
    "            arr_index[i,j].set_xticks([])\n",
    "            \n",
    "            \n",
    "            \n",
    "\n",
    "### STUDENT END ###\n",
    "\n",
    "P1(10)"
   ]
  },
  {
   "cell_type": "markdown",
   "metadata": {},
   "source": [
    "(2) Evaluate a K-Nearest-Neighbors model with k = [1,3,5,7,9] using the mini training set. Report accuracy on the dev set. For k=1, show precision, recall, and F1 for each label. Which is the most difficult digit?\n",
    "\n",
    "- KNeighborsClassifier() for fitting and predicting\n",
    "- classification_report() for producing precision, recall, F1 results"
   ]
  },
  {
   "cell_type": "code",
   "execution_count": 6,
   "metadata": {
    "scrolled": false
   },
   "outputs": [
    {
     "name": "stdout",
     "output_type": "stream",
     "text": [
      "Classification Report for K=1\n",
      "             precision    recall  f1-score   support\n",
      "\n",
      "        0.0       0.91      0.98      0.94        99\n",
      "        1.0       0.89      1.00      0.94       105\n",
      "        2.0       0.99      0.79      0.88       102\n",
      "        3.0       0.77      0.87      0.82        86\n",
      "        4.0       0.89      0.82      0.85       104\n",
      "        5.0       0.93      0.84      0.88        91\n",
      "        6.0       0.94      0.96      0.95        98\n",
      "        7.0       0.89      0.92      0.90       113\n",
      "        8.0       0.94      0.88      0.91        96\n",
      "        9.0       0.78      0.82      0.80       106\n",
      "\n",
      "avg / total       0.89      0.89      0.89      1000\n",
      "\n",
      "Total: 1000  correct: 888  accuracy: 0.89 for k = 1\n",
      "Total: 1000  correct: 878  accuracy: 0.88 for k = 3\n",
      "Total: 1000  correct: 869  accuracy: 0.87 for k = 5\n",
      "Total: 1000  correct: 865  accuracy: 0.86 for k = 7\n",
      "Total: 1000  correct: 863  accuracy: 0.86 for k = 9\n"
     ]
    }
   ],
   "source": [
    "\n",
    "## A function for easy accuracy calculation\n",
    "def accuracy_score(y_predict,y_true):\n",
    "    correct, total,accuracy = 0, 0, 0\n",
    "    for pred, label in zip(y_predict, y_true):\n",
    "        if pred == label: correct += 1\n",
    "        total += 1\n",
    "    accuracy = 1.0*correct/total\n",
    "    return accuracy, correct, total\n",
    "    \n",
    "def P2(k_values):\n",
    "    \n",
    "    for k in k_values:\n",
    "        knn = KNeighborsClassifier(k,'uniform')\n",
    "        y_pred = knn.fit(mini_train_data,mini_train_labels).predict(dev_data)\n",
    "        accuracy, correct, total = accuracy_score(y_pred,dev_labels)\n",
    "        \n",
    "        if k == 1:  ## if k == 1 print the classification report\n",
    "            print \"Classification Report for K=1\"\n",
    "            print classification_report(dev_labels,y_pred)\n",
    "        print 'Total: %3d  correct: %3d  accuracy: %3.2f for k = %d'  %(total, correct, accuracy , k)\n",
    "\n",
    "k_values = [1, 3, 5, 7, 9]\n",
    "P2(k_values)"
   ]
  },
  {
   "cell_type": "markdown",
   "metadata": {},
   "source": [
    "ANSWER:"
   ]
  },
  {
   "cell_type": "markdown",
   "metadata": {},
   "source": [
    "(3) Using k=1, report dev set accuracy for the training set sizes below. Also, measure the amount of time needed for prediction with each training size.\n",
    "\n",
    "- time.time() gives a wall clock value you can use for timing operations"
   ]
  },
  {
   "cell_type": "code",
   "execution_count": 37,
   "metadata": {},
   "outputs": [
    {
     "name": "stdout",
     "output_type": "stream",
     "text": [
      "The accuracy for training size of 100 is 0.72 and time is 0.18 \n",
      "The accuracy for training size of 200 is 0.79 and time is 0.32 \n",
      "The accuracy for training size of 400 is 0.84 and time is 0.72 \n",
      "The accuracy for training size of 800 is 0.88 and time is 1.42 \n",
      "The accuracy for training size of 1600 is 0.90 and time is 2.77 \n",
      "The accuracy for training size of 3200 is 0.93 and time is 5.42 \n",
      "The accuracy for training size of 6400 is 0.94 and time is 11.08 \n",
      "The accuracy for training size of 12800 is 0.96 and time is 22.70 \n",
      "The accuracy for training size of 25000 is 0.97 and time is 44.41 \n"
     ]
    }
   ],
   "source": [
    "def P3(train_sizes, accuracies):\n",
    "\n",
    "### STUDENT START ###\n",
    "    pred_time_arr=[]\n",
    "    for k in range(len(train_sizes)):\n",
    "        knn = KNeighborsClassifier(1,'distance')\n",
    "        clf = knn.fit(train_data[:train_sizes[k]],train_labels[:train_sizes[k]])\n",
    "        start_time = time.time()\n",
    "        y_pred = clf.predict(dev_data)\n",
    "        pred_time=time.time()-start_time\n",
    "        pred_time_arr.append(pred_time)\n",
    "        accuracy, correct, total = accuracy_score(y_pred,dev_labels)\n",
    "        accuracies.append(accuracy)\n",
    "        print 'The accuracy for training size of %3d is %3.2f and time is %3.2f ' %(train_sizes[k],accuracy,pred_time) \n",
    "    return np.array(accuracies),np.array(pred_time_arr)\n",
    "### STUDENT END ###\n",
    "\n",
    "train_sizes = [100, 200, 400, 800, 1600, 3200, 6400, 12800, 25000]\n",
    "accuracies = []\n",
    "pred_time=[]\n",
    "accuracies,pred_time = P3(train_sizes, accuracies)\n"
   ]
  },
  {
   "cell_type": "markdown",
   "metadata": {},
   "source": [
    "(4) Fit a regression model that predicts accuracy from training size. What does it predict for n=60000? What's wrong with using regression here? Can you apply a transformation that makes the predictions more reasonable?\n",
    "\n",
    "- Remember that the sklearn fit() functions take an input matrix X and output vector Y. So each input example in X is a vector, even if it contains only a single value."
   ]
  },
  {
   "cell_type": "code",
   "execution_count": 50,
   "metadata": {},
   "outputs": [
    {
     "name": "stderr",
     "output_type": "stream",
     "text": [
      "/home/sleeper/anaconda2/lib/python2.7/site-packages/sklearn/utils/validation.py:395: DeprecationWarning: Passing 1d arrays as data is deprecated in 0.17 and will raise ValueError in 0.19. Reshape your data either using X.reshape(-1, 1) if your data has a single feature or X.reshape(1, -1) if it contains a single sample.\n",
      "  DeprecationWarning)\n",
      "/home/sleeper/anaconda2/lib/python2.7/site-packages/sklearn/utils/validation.py:395: DeprecationWarning: Passing 1d arrays as data is deprecated in 0.17 and will raise ValueError in 0.19. Reshape your data either using X.reshape(-1, 1) if your data has a single feature or X.reshape(1, -1) if it contains a single sample.\n",
      "  DeprecationWarning)\n"
     ]
    },
    {
     "name": "stdout",
     "output_type": "stream",
     "text": [
      "Accuracy  for n=60000 is 1.24\n",
      "Accuracy  for n=60000 is 1.03\n"
     ]
    },
    {
     "data": {
      "image/png": "[encoded data removed]",
      "text/plain": [
       "<matplotlib.figure.Figure at 0xa7ec4e4c>"
      ]
     },
     "metadata": {},
     "output_type": "display_data"
    },
    {
     "data": {
      "image/png": "[encoded data removed]",
      "text/plain": [
       "<matplotlib.figure.Figure at 0xa5a0deec>"
      ]
     },
     "metadata": {},
     "output_type": "display_data"
    }
   ],
   "source": [
    "train_sizes_np = np.array(train_sizes).reshape(9,1)\n",
    "def P4():\n",
    "\n",
    "### STUDENT START ###\n",
    "    lm = LinearRegression()\n",
    "    lm_fit = lm.fit(train_sizes_np,accuracies)\n",
    "    #plt.plot(train_sizes_np,lm_fit.predict(np.append(train_sizes_np,np.array([60000]))))\n",
    "    lm_pred_acc = lm_fit.predict([60000])\n",
    "    \n",
    "##################################################################################################\n",
    "################################################################################################\n",
    "    print \"Accuracy  for n=60000 is %3.2f\"%(lm_pred_acc)\n",
    "    \n",
    "    lm_fit = lm.fit(np.log(train_sizes_np),accuracies)\n",
    "    #plt.plot(train_sizes_np,lm_fit.predict(np.append(train_sizes_np,np.array([60000]))))\n",
    "    lm_pred_acc = lm_fit.predict(np.log([60000]))\n",
    "    \n",
    "##################################################################################################\n",
    "################################################################################################\n",
    "    print \"Accuracy  for n=60000 is %3.2f\"%(lm_pred_acc)\n",
    "### STUDENT END ###\n",
    "\n",
    "P4()\n",
    "## We can see that the the predicted accuracy is higer that 1 which is not possible\n",
    "## We can use the from the first figure we can see that the training size is the logarithmic of accurary\n",
    "## When we plot the log of training size vs the accuracy we see a much better line.\n",
    "\n",
    "plt.figure(1)\n",
    "#plt.subplot(211)\n",
    "plt.scatter(train_sizes,accuracies)\n",
    "#plt.subplot(212)\n",
    "plt.figure(2)\n",
    "plt.scatter(np.log(train_sizes),(accuracies))\n",
    "plt.show()\n"
   ]
  },
  {
   "cell_type": "markdown",
   "metadata": {},
   "source": [
    "ANSWER:"
   ]
  },
  {
   "cell_type": "markdown",
   "metadata": {},
   "source": [
    "Fit a 1-NN and output a confusion matrix for the dev data. Use the confusion matrix to identify the most confused pair of digits, and display a few example mistakes.\n",
    "\n",
    "- confusion_matrix() produces a confusion matrix"
   ]
  },
  {
   "cell_type": "code",
   "execution_count": 7,
   "metadata": {
    "scrolled": true
   },
   "outputs": [
    {
     "name": "stdout",
     "output_type": "stream",
     "text": [
      "[[ 97   0   4   1   0   2   1   1   0   1]\n",
      " [  0 105   4   0   2   0   1   4   2   0]\n",
      " [  0   0  81   0   0   0   1   0   0   0]\n",
      " [  0   0   4  75   0   9   0   1   5   3]\n",
      " [  0   0   0   0  85   0   1   1   0   9]\n",
      " [  0   0   0   3   0  76   0   0   2   1]\n",
      " [  2   0   0   0   3   0  94   0   1   0]\n",
      " [  0   0   4   3   0   1   0 104   0   5]\n",
      " [  0   0   3   1   0   1   0   0  84   0]\n",
      " [  0   0   2   3  14   2   0   2   2  87]]\n",
      "\n",
      " From confusion matrix it looks like that the most mistaken numbers are 4 and 9  as well as 8 and 3 \n",
      "\n",
      "The predicted value is 4 and the true value is 9\n",
      "The predicted value is 3 and the true value is 8\n",
      "The predicted value is 4 and the true value is 6\n",
      "The predicted value is 6 and the true value is 0\n"
     ]
    },
    {
     "data": {
      "image/png": "[encoded data removed]",
      "text/plain": [
       "<matplotlib.figure.Figure at 0xa645576c>"
      ]
     },
     "metadata": {},
     "output_type": "display_data"
    }
   ],
   "source": [
    "def P5():\n",
    "\n",
    "### STUDENT START ##\n",
    "    \n",
    "    ## Building the K nearest neighbor with K = 1\n",
    "    knn = KNeighborsClassifier(1,'uniform')\n",
    "    y_pred = knn.fit(mini_train_data,mini_train_labels).predict(dev_data)\n",
    "    ## printing the confusion matrix\n",
    "    print confusion_matrix(y_pred,dev_labels)\n",
    "    \n",
    "    print \"\"\n",
    "    \n",
    "    print \" From confusion matrix it looks like that the most mistaken numbers are 4 and 9  as well as 8 and 3 \"\n",
    "    \n",
    "    print \"\"\n",
    "    \n",
    "    ### print numbers which are errors\n",
    "    j=0\n",
    "    for i in range(len(dev_labels)):  # break after for examples \n",
    "        if j >=4:\n",
    "            break\n",
    "        if y_pred[i] != dev_labels[i]:  # compare if true value is same as predicted values \n",
    "            print \"The predicted value is %d and the true value is %d\" %(y_pred[i], dev_labels[i])\n",
    "\n",
    "            plt.subplot(4,2,j+2)\n",
    "            plt.imshow(dev_data[i].reshape(28,28))\n",
    "            j=j+1 \n",
    "\n",
    "### STUDENT END ###\n",
    "\n",
    "P5()"
   ]
  },
  {
   "cell_type": "code",
   "execution_count": 141,
   "metadata": {},
   "outputs": [
    {
     "data": {
      "text/plain": [
       "<matplotlib.image.AxesImage at 0xa6cf168c>"
      ]
     },
     "execution_count": 141,
     "metadata": {},
     "output_type": "execute_result"
    },
    {
     "data": {
      "image/png": "[encoded data removed]",
      "text/plain": [
       "<matplotlib.figure.Figure at 0xa75b180c>"
      ]
     },
     "metadata": {},
     "output_type": "display_data"
    }
   ],
   "source": []
  },
  {
   "cell_type": "markdown",
   "metadata": {},
   "source": [
    "(6) A common image processing technique is to smooth an image by blurring. The idea is that the value of a particular pixel is estimated as the weighted combination of the original value and the values around it. Typically, the blurring is Gaussian -- that is, the weight of a pixel's influence is determined by a Gaussian function over the distance to the relevant pixel.\n",
    "\n",
    "Implement a simplified Gaussian blur by just using the 8 neighboring pixels: the smoothed value of a pixel is a weighted combination of the original value and the 8 neighboring values. Try applying your blur filter in 3 ways:\n",
    "- preprocess the training data but not the dev data\n",
    "- preprocess the dev data but not the training data\n",
    "- preprocess both training and dev data\n",
    "\n",
    "\n",
    "Note that there are Guassian blur filters available, for example in scipy.ndimage.filters. You're welcome to experiment with those, but you are likely to get the best results with the simplified version I described above."
   ]
  },
  {
   "cell_type": "code",
   "execution_count": 144,
   "metadata": {},
   "outputs": [
    {
     "name": "stdout",
     "output_type": "stream",
     "text": [
      "Preprocess the training data but not the dev data\n",
      "Total: 1000  correct: 907  accuracy: 0.91 for k = 1 for preprocessed train data\n",
      "\n",
      "Preprocess dev data but not the training data\n",
      "Total: 1000  correct: 893  accuracy: 0.89 for k = 1 for preprocessed dev data \n",
      "\n",
      "preprocess both training and dev data\n",
      "Total: 1000  correct: 912  accuracy: 0.91 for k = 1 for preprocessed dev data  and training data\n",
      "sample images with one without gaussain blur and one with gaussain blur\n"
     ]
    },
    {
     "data": {
      "image/png": "[encoded data removed]",
      "text/plain": [
       "<matplotlib.figure.Figure at 0xa649fc4c>"
      ]
     },
     "metadata": {},
     "output_type": "display_data"
    }
   ],
   "source": [
    "def gaussian_blur(mini_train_data):\n",
    "    \n",
    "    data_blur = np.zeros((mini_train_data.shape))\n",
    "    \n",
    "    for i in range(len(mini_train_data)):\n",
    "        \n",
    "        mini_tr_da_re = np.zeros((28,28))\n",
    "        mini_tr_da_re = np.copy(mini_train_data[i].reshape(28,28))\n",
    "        #print mini_tr_da_re\n",
    "        for row in range(len(mini_tr_da_re)-1):\n",
    "            for col in range(len(mini_tr_da_re[0])-1):\n",
    "                if row == 0 or col ==0:\n",
    "                    continue;\n",
    "                mini_tr_da_re[row , col] = ((mini_tr_da_re[row-1 ,col-1] + mini_tr_da_re[row-1, col] + mini_tr_da_re[row-1,col+1] \\\n",
    "                                           + mini_tr_da_re[row,col-1] + mini_tr_da_re[row,col+1] + \\\n",
    "                                           mini_tr_da_re[row+1,col-1] + mini_tr_da_re[row + 1,col] + mini_tr_da_re[row+1,col-1])/8 \\\n",
    "                                             + mini_tr_da_re[row,col])/2\n",
    "\n",
    "        #mini_tr_da_re = np.array(mini_tr_da_re, dtype =float)\n",
    "        data_blur[i] = mini_tr_da_re.reshape(784)\n",
    "    return data_blur\n",
    "\n",
    "\n",
    "\n",
    "\n",
    "def P6():\n",
    "    \n",
    "### STUDENT START ###\n",
    "    #preprocess the training data but not the dev data\n",
    "    print \"Preprocess the training data but not the dev data\"\n",
    "    blurred_train = gaussian_blur(mini_train_data)\n",
    "    knn = KNeighborsClassifier(1,'uniform')\n",
    "    \n",
    "    ##\n",
    "    y_pred = knn.fit(blurred_train,mini_train_labels).predict(dev_data)\n",
    "    accuracy, correct, total = accuracy_score(y_pred,dev_labels)\n",
    "    print 'Total: %3d  correct: %3d  accuracy: %3.2f for k = 1 for preprocessed train data'  %(total, correct, accuracy)\n",
    "    \n",
    "    print \"\"\n",
    "    #preprocess the dev data but not the training data\n",
    "    print \"Preprocess dev data but not the training data\"\n",
    "    blurred_dev = gaussian_blur(dev_data)\n",
    "\n",
    "    y_pred = knn.fit(mini_train_data,mini_train_labels).predict(blurred_dev)\n",
    "    accuracy, correct, total = accuracy_score(y_pred,dev_labels)\n",
    "    print 'Total: %3d  correct: %3d  accuracy: %3.2f for k = 1 for preprocessed dev data '  %(total, correct, accuracy)\n",
    "        \n",
    "    print \"\"\n",
    "    #preprocess both training and dev data\n",
    "    print \"Preprocess both training and dev data\"\n",
    " \n",
    "    ##\n",
    "    y_pred = knn.fit(blurred_train,mini_train_labels).predict(blurred_dev)\n",
    "    accuracy, correct, total = accuracy_score(y_pred,dev_labels)\n",
    "    print 'Total: %3d  correct: %3d  accuracy: %3.2f for k = 1 for preprocessed dev data  and training data'  %(total, correct, accuracy)\n",
    "    \n",
    "    \n",
    "    print \"\"\n",
    "    print \"sample images with one without gaussain blur and one with gaussain blur\"\n",
    "    plt.subplot(1,2,1)\n",
    "    plt.imshow(mini_train_data[75].reshape(28,28))\n",
    "    plt.subplot(1,2,2)    \n",
    "    plt.imshow(blurred_train[75].reshape(28,28))\n",
    "\n",
    "    #print np.array_equal(blurred,mini_train_data)\n",
    "               #print mini_tr_da_re\n",
    "\n",
    "### STUDENT END ###\n",
    "\n",
    "P6()"
   ]
  },
  {
   "cell_type": "markdown",
   "metadata": {},
   "source": [
    "ANSWER:"
   ]
  },
  {
   "cell_type": "markdown",
   "metadata": {},
   "source": [
    "(7) Fit a Naive Bayes classifier and report accuracy on the dev data. Remember that Naive Bayes estimates P(feature|label). While sklearn can handle real-valued features, let's start by mapping the pixel values to either 0 or 1. You can do this as a preprocessing step, or with the binarize argument. With binary-valued features, you can use BernoulliNB. Next try mapping the pixel values to 0, 1, or 2, representing white, grey, or black. This mapping requires MultinomialNB. Does the multi-class version improve the results? Why or why not?"
   ]
  },
  {
   "cell_type": "code",
   "execution_count": 8,
   "metadata": {},
   "outputs": [
    {
     "name": "stdout",
     "output_type": "stream",
     "text": [
      "\n",
      "Modeling for Bernoulli Naive bayes classifier\n",
      " The accuray score using BernoulliNB is 0.8150\n",
      "\n",
      "Modeling for Multinomial Naive bayes classifier\n",
      " The accuray score using MultinomialNB is 0.8170 \n",
      "We see that the multinomial Naive Bayes performs worse since the 3 level classes adds noise to the training data\n"
     ]
    }
   ],
   "source": [
    "g = lambda x: 0  if x<=0.5  else  1  \n",
    "biniary_mapper = np.vectorize(g)\n",
    "\n",
    "\n",
    "def P7():\n",
    "\n",
    "### STUDENT START ###\n",
    "    print \"\"\n",
    "    print \"Modeling for Bernoulli Naive bayes classifier\"\n",
    "    \n",
    "    ## function to map biniary values i.e if values <= 0.5 then 0 else 1\n",
    "     \n",
    "    \n",
    "    ## vectorizing function so that it can be applied over a numpy array\n",
    "    biniary_mapper = np.vectorize(g)\n",
    "    \n",
    "    ## mapping the training data to biniary\n",
    "    biniary_train_data = biniary_mapper(mini_train_data)\n",
    "    \n",
    "    ## bulding biniary Naive Bayes model using BernoulliNB \n",
    "    nb = BernoulliNB()\n",
    "    nb.fit(biniary_train_data, mini_train_labels)\n",
    "\n",
    "    ## calculating the score\n",
    "    print \" The accuray score using BernoulliNB is %3.4f\" %nb.score(biniary_mapper(dev_data),dev_labels)\n",
    "    \n",
    "    \n",
    "    print \"\"\n",
    "    print \"Modeling for Multinomial Naive bayes classifier\"\n",
    "    \n",
    "    ## function to map biniary values i.e if values x <= 0.33 then 0,  0.33<x <=0.66 then 1  else 2\n",
    "        \n",
    "    f = lambda x: 0  if x<=0.33  else( 1 if x <=.66 else 2) \n",
    "\n",
    "    ## vectorizing function so that it can be applied over a numpy array\n",
    "    multinom_mapper = np.vectorize(f)\n",
    "    \n",
    "    ## mapping the training data to biniary\n",
    "    multinom_data = multinom_mapper(mini_train_data)\n",
    "\n",
    "    ## building MultinomialNB Naive Bayes model\n",
    "    \n",
    "    mnb = MultinomialNB()\n",
    "    mnb.fit(multinom_data, mini_train_labels)\n",
    "    \n",
    "    ## calculating score\n",
    "    print \" The accuray score using MultinomialNB is %3.4f \" %nb.score(multinom_mapper(dev_data),dev_labels)\n",
    "    \n",
    "\n",
    "\n",
    "    \n",
    "    ### STUDENT END ###\n",
    "\n",
    "P7()\n",
    "\n",
    "\n",
    "print \"We see that the multinomial NB and Bernoulli performs performs almost very similar.\"\n",
    "print \"This is because the 'grey' pixel do not add much information when trying to predict the numbers \"\n",
    "\n",
    "\n",
    "#############################################################################################"
   ]
  },
  {
   "cell_type": "markdown",
   "metadata": {},
   "source": [
    "ANSWER:"
   ]
  },
  {
   "cell_type": "markdown",
   "metadata": {},
   "source": [
    "(8) Use GridSearchCV to perform a search over values of alpha (the Laplace smoothing parameter) in a Bernoulli NB model. What is the best value for alpha? What is the accuracy when alpha=0? Is this what you'd expect?\n",
    "\n",
    "- Note that GridSearchCV partitions the training data so the results will be a bit different than if you used the dev data for evaluation."
   ]
  },
  {
   "cell_type": "code",
   "execution_count": 198,
   "metadata": {
    "collapsed": true
   },
   "outputs": [],
   "source": [
    "def P8(alphas):\n",
    "\n",
    "### STUDENT START ###\n",
    "\n",
    "    ## bulding biniary Naive Bayes model using BernoulliNB \n",
    "    nb = BernoulliNB()\n",
    "    clf = GridSearchCV(nb,alphas)\n",
    "    clf.fit(biniary_mapper(mini_train_data), mini_train_labels)\n",
    "    #print clf.cv_results_.keys()\n",
    "    return clf\n",
    "\n",
    "\n",
    "### STUDENT END ###\n",
    "\n",
    "alphas = {'alpha': [0.0, 0.0001, 0.001, 0.01, 0.1, 0.5, 1.0, 2.0, 10.0]}\n",
    "nb = P8(alphas)\n",
    "\n",
    "##############################################################################################\n",
    "##############################################################################################"
   ]
  },
  {
   "cell_type": "code",
   "execution_count": 202,
   "metadata": {},
   "outputs": [
    {
     "name": "stdout",
     "output_type": "stream",
     "text": [
      "{'alpha': 0.001}\n",
      "0.836\n",
      "[mean: 0.10000, std: 0.00065, params: {'alpha': 0.0}, mean: 0.83400, std: 0.00603, params: {'alpha': 0.0001}, mean: 0.83600, std: 0.00934, params: {'alpha': 0.001}, mean: 0.83600, std: 0.00796, params: {'alpha': 0.01}, mean: 0.83500, std: 0.00427, params: {'alpha': 0.1}, mean: 0.82700, std: 0.00522, params: {'alpha': 0.5}, mean: 0.82100, std: 0.00512, params: {'alpha': 1.0}, mean: 0.81000, std: 0.00810, params: {'alpha': 2.0}, mean: 0.71500, std: 0.00540, params: {'alpha': 10.0}]\n"
     ]
    }
   ],
   "source": [
    "print nb.best_params_\n",
    "print nb.best_score_\n",
    "print nb.grid_scores_"
   ]
  },
  {
   "cell_type": "markdown",
   "metadata": {},
   "source": [
    "ANSWER:"
   ]
  },
  {
   "cell_type": "markdown",
   "metadata": {},
   "source": [
    "(9) Try training a model using GuassianNB, which is intended for real-valued features, and evaluate on the dev data. You'll notice that it doesn't work so well. Try to diagnose the problem. You should be able to find a simple fix that returns the accuracy to around the same rate as BernoulliNB. Explain your solution.\n",
    "\n",
    "Hint: examine the parameters estimated by the fit() method, theta\\_ and sigma\\_."
   ]
  },
  {
   "cell_type": "code",
   "execution_count": 55,
   "metadata": {},
   "outputs": [
    {
     "name": "stdout",
     "output_type": "stream",
     "text": [
      "0.621\n",
      "0.802\n"
     ]
    },
    {
     "data": {
      "image/png": "[encoded data removed]",
      "text/plain": [
       "<matplotlib.figure.Figure at 0xa597b02c>"
      ]
     },
     "metadata": {},
     "output_type": "display_data"
    }
   ],
   "source": [
    "def P9():\n",
    "\n",
    "### STUDENT END ###\n",
    "\n",
    "## Fitting gausaain model \n",
    "    gnb = GaussianNB()\n",
    "    y_pred = gnb.fit(mini_train_data,mini_train_labels).predict(dev_data)\n",
    "    \n",
    "## Predicting the values   \n",
    "    correct = y_pred==dev_labels\n",
    "    print np.mean(correct)\n",
    "\n",
    "## Predicting the values   \n",
    "    gnb = GaussianNB()\n",
    "    nb = gnb.fit(mini_train_data,mini_train_labels)\n",
    "    \n",
    "    plt.hist(nb.sigma_[2])\n",
    "    nb.sigma_[...] = .1\n",
    "    y_pred = nb.predict(dev_data)\n",
    "    correct = y_pred==dev_labels\n",
    "    \n",
    "    print np.mean(correct)\n",
    "### STUDENT END ###\n",
    "\n",
    "gnb = P9()"
   ]
  },
  {
   "cell_type": "code",
   "execution_count": 22,
   "metadata": {},
   "outputs": [
    {
     "name": "stdout",
     "output_type": "stream",
     "text": [
      "1\n"
     ]
    }
   ],
   "source": []
  },
  {
   "cell_type": "markdown",
   "metadata": {},
   "source": [
    "ANSWER:"
   ]
  },
  {
   "cell_type": "markdown",
   "metadata": {},
   "source": [
    "(10) Because Naive Bayes is a generative model, we can use the trained model to generate digits. Train a BernoulliNB model and then generate a 10x20 grid with 20 examples of each digit. Because you're using a Bernoulli model, each pixel output will be either 0 or 1. How do the generated digits compare to the training digits?\n",
    "\n",
    "- You can use np.random.rand() to generate random numbers from a uniform distribution\n",
    "- The estimated probability of each pixel is stored in feature\\_log\\_prob\\_. You'll need to use np.exp() to convert a log probability back to a probability."
   ]
  },
  {
   "cell_type": "code",
   "execution_count": 91,
   "metadata": {},
   "outputs": [
    {
     "data": {
      "image/png": "[encoded data removed]",
      "text/plain": [
       "<matplotlib.figure.Figure at 0x9f24c1ec>"
      ]
     },
     "metadata": {},
     "output_type": "display_data"
    }
   ],
   "source": [
    "def P10(num_examples):\n",
    "\n",
    "    ### STUDENT START ###\n",
    "    biniary_train_data = biniary_mapper(mini_train_data)\n",
    "    \n",
    "    ## bulding biniary Naive Bayes model using BernoulliNB \n",
    "    nb = BernoulliNB()\n",
    "    clf = nb.fit(biniary_train_data, mini_train_labels)\n",
    "    proba = nb.feature_log_prob_ \n",
    "    \n",
    "    plt.figure(figsize=(17,4))\n",
    "    for i in range(10):\n",
    "        plt.subplot(1,10,i+1)\n",
    "        plt.imshow(np.exp(proba[i]).reshape(28,28))\n",
    "    ### STUDENT END ###\n",
    "    #P1(num_examples)\n",
    "\n",
    "P10(20)"
   ]
  },
  {
   "cell_type": "markdown",
   "metadata": {},
   "source": [
    "ANSWER:"
   ]
  },
  {
   "cell_type": "markdown",
   "metadata": {},
   "source": [
    "(11) Remember that a strongly calibrated classifier is rougly 90% accurate when the posterior probability of the predicted class is 0.9. A weakly calibrated classifier is more accurate when the posterior is 90% than when it is 80%. A poorly calibrated classifier has no positive correlation between posterior and accuracy.\n",
    "\n",
    "Train a BernoulliNB model with a reasonable alpha value. For each posterior bucket (think of a bin in a histogram), you want to estimate the classifier's accuracy. So for each prediction, find the bucket the maximum posterior belongs to and update the \"correct\" and \"total\" counters.\n",
    "\n",
    "How would you characterize the calibration for the Naive Bayes model?"
   ]
  },
  {
   "cell_type": "code",
   "execution_count": 17,
   "metadata": {
    "collapsed": true
   },
   "outputs": [],
   "source": [
    "#def P11(buckets, correct, total):\n",
    "    \n",
    "### STUDENT START ###\n",
    "\n",
    "\n",
    "                \n",
    "### STUDENT END ###\n",
    "\n",
    "#buckets = [0.5, 0.9, 0.999, 0.99999, 0.9999999, 0.999999999, 0.99999999999, 0.9999999999999, 1.0]\n",
    "#correct = [0 for i in buckets]\n",
    "#total = [0 for i in buckets]\n",
    "\n",
    "#P11(buckets, correct, total)\n",
    "\n",
    "#for i in range(len(buckets)):\n",
    "#    accuracy = 0.0\n",
    "#    if (total[i] > 0): accuracy = correct[i] / total[i]\n",
    "#    print 'p(pred) <= %.13f    total = %3d    accuracy = %.3f' %(buckets[i], total[i], accuracy)"
   ]
  },
  {
   "cell_type": "markdown",
   "metadata": {},
   "source": [
    "ANSWER:"
   ]
  },
  {
   "cell_type": "markdown",
   "metadata": {},
   "source": [
    "(12) EXTRA CREDIT\n",
    "\n",
    "Try designing extra features to see if you can improve the performance of Naive Bayes on the dev set. Here are a few ideas to get you started:\n",
    "- Try summing the pixel values in each row and each column.\n",
    "- Try counting the number of enclosed regions; 8 usually has 2 enclosed regions, 9 usually has 1, and 7 usually has 0.\n",
    "\n",
    "Make sure you comment your code well!"
   ]
  },
  {
   "cell_type": "code",
   "execution_count": 18,
   "metadata": {
    "collapsed": true
   },
   "outputs": [],
   "source": [
    "#def P12():\n",
    "\n",
    "### STUDENT START ###\n",
    "\n",
    "\n",
    "### STUDENT END ###\n",
    "\n",
    "#P12()"
   ]
  }
 ],
 "metadata": {
  "kernelspec": {
   "display_name": "Python [default]",
   "language": "python",
   "name": "python2"
  },
  "language_info": {
   "codemirror_mode": {
    "name": "ipython",
    "version": 2
   },
   "file_extension": ".py",
   "mimetype": "text/x-python",
   "name": "python",
   "nbconvert_exporter": "python",
   "pygments_lexer": "ipython2",
   "version": "2.7.13"
  }
 },
 "nbformat": 4,
 "nbformat_minor": 1
}
