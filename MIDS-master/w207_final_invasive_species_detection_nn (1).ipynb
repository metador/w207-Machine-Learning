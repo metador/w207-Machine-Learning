{
 "cells": [
  {
   "cell_type": "code",
   "execution_count": 25,
   "metadata": {
    "collapsed": true
   },
   "outputs": [],
   "source": [
    "from PIL import Image\n",
    "import pandas as pd\n",
    "import numpy as np\n",
    "import os\n",
    "import tensorflow as tf\n",
    "\n",
    "from tensorflow.python.framework import random_seed\n",
    "\n",
    "import numpy as np\n",
    "def reset_graph(seed=42):\n",
    "    tf.reset_default_graph()\n",
    "    tf.set_random_seed(seed)\n",
    "    np.random.seed(seed)"
   ]
  },
  {
   "cell_type": "code",
   "execution_count": 26,
   "metadata": {
    "collapsed": true
   },
   "outputs": [],
   "source": [
    "train_labels = pd.read_csv(\"train_data/train_labels.csv\")['invasive'].values\n",
    "\n"
   ]
  },
  {
   "cell_type": "code",
   "execution_count": 27,
   "metadata": {
    "collapsed": true
   },
   "outputs": [],
   "source": [
    "def load_images(indices):\n",
    "    images= np.zeros(shape=(len(indices), 866, 1154, 3), dtype=np.uint8)\n",
    "    for p, i in enumerate(indices):\n",
    "        im = Image.open(\"train_data/\"+str(i+1)+\".jpg\")\n",
    "    # open image file and store in variable `im`, then\n",
    "        images[p] = np.array(im)\n",
    "    images = images.astype(np.float32)\n",
    "    images = np.multiply(images, 1.0 / 255.0)\n",
    "\n",
    "    return images\n",
    "\n"
   ]
  },
  {
   "cell_type": "code",
   "execution_count": 28,
   "metadata": {
    "collapsed": true
   },
   "outputs": [],
   "source": [
    "class DataSet(object):\n",
    "\n",
    "  def __init__(self,\n",
    "               image_indices,\n",
    "               labels,\n",
    "               seed=None):\n",
    "    seed1, seed2 = random_seed.get_seed(seed)\n",
    "    # If op level seed is not set, use whatever graph level seed is returned\n",
    "    np.random.seed(seed1 if seed is None else seed2)\n",
    "    self._num_examples = len(image_indices)\n",
    "    self._image_indices = image_indices\n",
    "    self._labels = labels\n",
    "    self._epochs_completed = 0\n",
    "    self._index_in_epoch = 0\n",
    "\n",
    "  @property\n",
    "  def image_indices(self):\n",
    "    return self._image_indices\n",
    "\n",
    "  @property\n",
    "  def labels(self):\n",
    "    return self._labels\n",
    "\n",
    "  @property\n",
    "  def num_examples(self):\n",
    "    return self._num_examples\n",
    "\n",
    "  @property\n",
    "  def epochs_completed(self):\n",
    "    return self._epochs_completed\n",
    "\n",
    "  def load_images(indices):\n",
    "\n",
    "        images= np.zeros(shape=(len(indices), 866, 1154, 3), dtype=np.uint8)\n",
    "        for i in indices:\n",
    "            im = Image.open(\"train_data/\"+str(i+1)+\".jpg\")\n",
    "        # open image file and store in variable `im`, then\n",
    "            images[i] = np.array(im)\n",
    "        images = images.astype(np.float32)\n",
    "        images = np.multiply(images, 1.0 / 255.0)\n",
    "\n",
    "        return images\n",
    "\n",
    "  def next_batch(self, batch_size, shuffle=True):\n",
    "    \"\"\"Return the next `batch_size` examples from this data set.\"\"\"\n",
    "    start = self._index_in_epoch\n",
    "    # Shuffle for the first epoch\n",
    "    if self._epochs_completed == 0 and start == 0 and shuffle:\n",
    "      perm0 = np.arange(self._num_examples)\n",
    "      np.random.shuffle(perm0)\n",
    "      self._image_indices = self.image_indices[perm0]\n",
    "      self._labels = self.labels[perm0]\n",
    "    # Go to the next epoch\n",
    "    if start + batch_size > self._num_examples:\n",
    "      # Finished epoch\n",
    "      self._epochs_completed += 1\n",
    "      # Get the rest examples in this epoch\n",
    "      rest_num_examples = self._num_examples - start\n",
    "      images_rest_part = self._image_indices[start:self._num_examples]\n",
    "      labels_rest_part = self._image_indices[start:self._num_examples]\n",
    "      # Shuffle the data\n",
    "      if shuffle:\n",
    "        perm = np.arange(self._num_examples)\n",
    "        np.random.shuffle(perm)\n",
    "        self._image_indices = self.image_indices[perm]\n",
    "        self._labels = self.labels[perm]\n",
    "      # Start next epoch\n",
    "      start = 0\n",
    "      self._index_in_epoch = batch_size - rest_num_examples\n",
    "      end = self._index_in_epoch\n",
    "      images_new_part = self._image_indices[start:end]\n",
    "      labels_new_part = self._labels[start:end]\n",
    "      return load_images(np.concatenate((images_rest_part, images_new_part), axis =0)), np.concatenate((labels_rest_part, labels_new_part), axis=0)\n",
    "    else:\n",
    "      self._index_in_epoch += batch_size\n",
    "      end = self._index_in_epoch\n",
    "      return load_images(self._image_indices[start:end]), self._labels[start:end]\n",
    "\n",
    "   \n",
    "        "
   ]
  },
  {
   "cell_type": "code",
   "execution_count": 29,
   "metadata": {
    "collapsed": true
   },
   "outputs": [],
   "source": [
    "y_train = train_labels[:1800]\n",
    "y_dev = train_labels[1800:]\n",
    "train_data = DataSet(np.arange(0,1800), y_train)\n",
    "test_data = DataSet(np.arange(1800,len(train_labels)), y_dev)\n",
    "\n",
    "y_validation = train_labels[1800:]\n",
    "validation_data = DataSet(np.arange(1800,len(train_labels)), y_validation)"
   ]
  },
  {
   "cell_type": "code",
   "execution_count": 30,
   "metadata": {
    "collapsed": false
   },
   "outputs": [],
   "source": [
    "height = 866\n",
    "width = 1154\n",
    "channels = 3\n",
    "n_inputs = height * width\n",
    "\n",
    "conv1_fmaps = 64\n",
    "conv1_ksize = 3\n",
    "conv1_stride = 1\n",
    "conv1_pad = \"SAME\"\n",
    "\n",
    "conv2_fmaps = 32\n",
    "conv2_ksize = 3\n",
    "conv2_stride = 1\n",
    "conv2_pad = \"SAME\"\n",
    "conv2_dropout_rate = 0.25\n",
    "\n",
    "\n",
    "pool3_fmaps = conv2_fmaps\n",
    "\n",
    "n_fc1 = 32\n",
    "fc1_dropout_rate = 0.5\n",
    "\n",
    "n_outputs = 2\n",
    "\n",
    "reset_graph()\n",
    "\n",
    "with tf.name_scope(\"inputs\"):\n",
    "    X = tf.placeholder(tf.float32, shape=[None, height, width, channels], name=\"X\")\n",
    "    X_resized = tf.image.resize_images(X, [400, 300])\n",
    "    X_resized_flat = tf.reshape(X_resized,shape=[-1,400* 300*channels])\n",
    "\n",
    "    y = tf.placeholder(tf.int32, shape=[None], name=\"y\")\n",
    "    training = tf.placeholder_with_default(False, shape=[], name='training')\n",
    "    \n",
    "    X_nn = tf.placeholder(tf.float32, shape=[None, 400* 300* channels], name=\"X_nn\")\n",
    "\n",
    "'''\n",
    "conv1 = tf.layers.conv2d(X_resized, filters=conv1_fmaps, kernel_size=conv1_ksize,\n",
    "                         strides=conv1_stride, padding=conv1_pad,\n",
    "                         activation=tf.nn.relu, name=\"conv1\")\n",
    "conv2 = tf.layers.conv2d(conv1, filters=conv2_fmaps, kernel_size=conv2_ksize,\n",
    "                         strides=conv2_stride, padding=conv2_pad,\n",
    "                         activation=tf.nn.relu, name=\"conv2\")\n",
    "\n",
    "with tf.name_scope(\"pool3\"):\n",
    "    pool3 = tf.nn.max_pool(conv2, ksize=[1, 2, 2, 1], strides=[1, 2, 2, 1], padding=\"VALID\")\n",
    "    ##Why are we reshaping the tensor \n",
    "    pool3_flat = tf.reshape(pool3, shape=[-1, pool3_fmaps * 200 * 150])\n",
    "    ## The drop outs is not used --> does tensorflow regularise automatically if the below is specified\n",
    "    pool3_flat_drop = tf.layers.dropout(pool3_flat, conv2_dropout_rate, training=training)\n",
    "  \n",
    "\n",
    "with tf.name_scope(\"fc1\"):\n",
    "    fc1 = tf.layers.dense(pool3_flat, n_fc1, activation=tf.nn.relu, name=\"fc1\")\n",
    "    #where do you use drop out layer\n",
    "    fc1_drop = tf.layers.dropout(fc1, fc1_dropout_rate, training=training)\n",
    "\n",
    "with tf.name_scope(\"output\"):\n",
    "    logits = tf.layers.dense(fc1, n_outputs, name=\"output\")\n",
    "    Y_proba = tf.nn.softmax(logits, name=\"Y_proba\")\n",
    "'''\n",
    "\n",
    "with tf.name_scope(\"fc1_nn\"):\n",
    "    fc1_nn = tf.layers.dense(X_resized_flat, 400, activation=tf.nn.relu, name=\"fc1_nn\")\n",
    "    #where do you use drop out layer\n",
    "    fc1_drop = tf.layers.dropout(fc1_nn, fc1_dropout_rate, training=training)\n",
    "\n",
    "with tf.name_scope(\"output_nn\"):\n",
    "    logits_nn = tf.layers.dense(fc1_nn, n_outputs, name=\"output_nn\")\n",
    "    Y_proba = tf.nn.softmax(logits_nn, name=\"Y_proba\")\n",
    "    \n",
    "'''\n",
    "with tf.name_scope(\"train\"):\n",
    "    xentropy = tf.nn.sparse_softmax_cross_entropy_with_logits(logits=logits, labels=y)\n",
    "    loss = tf.reduce_mean(xentropy)\n",
    "    optimizer = tf.train.AdamOptimizer()\n",
    "    training_op = optimizer.minimize(loss)\n",
    "''' \n",
    "with tf.name_scope(\"train_nn\"):\n",
    "    xentropy_nn = tf.nn.sparse_softmax_cross_entropy_with_logits(logits=logits_nn, labels=y)\n",
    "    loss_nn = tf.reduce_mean(xentropy_nn)\n",
    "    optimizer_nn = tf.train.AdamOptimizer()\n",
    "    training_op_nn = optimizer.minimize(loss_nn)\n",
    "'''\n",
    "with tf.name_scope(\"eval\"):\n",
    "    correct = tf.nn.in_top_k(logits, y, 1)\n",
    "    accuracy = tf.reduce_mean(tf.cast(correct, tf.float32))\n",
    "'''\n",
    "\n",
    "with tf.name_scope(\"eval\"):\n",
    "    correct = tf.nn.in_top_k(logits_nn, y, 1)\n",
    "    accuracy = tf.reduce_mean(tf.cast(correct, tf.float32))   \n",
    "    \n",
    "with tf.name_scope(\"init_and_save\"):\n",
    "    init = tf.global_variables_initializer()\n",
    "    saver = tf.train.Saver()\n"
   ]
  },
  {
   "cell_type": "code",
   "execution_count": 31,
   "metadata": {
    "collapsed": false
   },
   "outputs": [],
   "source": [
    "X_val, y_val = validation_data.next_batch(80)"
   ]
  },
  {
   "cell_type": "code",
   "execution_count": 32,
   "metadata": {
    "collapsed": true
   },
   "outputs": [],
   "source": [
    "def get_model_params():\n",
    "    gvars = tf.get_collection(tf.GraphKeys.GLOBAL_VARIABLES)\n",
    "    return {gvar.op.name: value for gvar, value in zip(gvars, tf.get_default_session().run(gvars))}\n",
    "\n",
    "def restore_model_params(model_params):\n",
    "    gvar_names = list(model_params.keys())\n",
    "    assign_ops = {gvar_name: tf.get_default_graph().get_operation_by_name(gvar_name + \"/Assign\")\n",
    "                  for gvar_name in gvar_names}\n",
    "    init_values = {gvar_name: assign_op.inputs[1] for gvar_name, assign_op in assign_ops.items()}\n",
    "    feed_dict = {init_values[gvar_name]: model_params[gvar_name] for gvar_name in gvar_names}\n",
    "    tf.get_default_session().run(assign_ops, feed_dict=feed_dict)"
   ]
  },
  {
   "cell_type": "code",
   "execution_count": 36,
   "metadata": {
    "collapsed": false
   },
   "outputs": [
    {
     "name": "stdout",
     "output_type": "stream",
     "text": [
      "Epoch 0, train accuracy: 76.6667%, valid. accuracy: 67.5000%, valid. best loss: 1.452171\n",
      "Epoch 1, train accuracy: 60.0000%, valid. accuracy: 41.2500%, valid. best loss: 1.047881\n",
      "Epoch 2, train accuracy: 66.6667%, valid. accuracy: 70.0000%, valid. best loss: 1.047881\n",
      "Early stopping!\n"
     ]
    }
   ],
   "source": [
    "n_epochs = 10\n",
    "batch_size = 30\n",
    "\n",
    "best_loss_val = np.infty\n",
    "check_interval = 5\n",
    "checks_since_last_progress = 0\n",
    "max_checks_without_progress = 8\n",
    "best_model_params = None \n",
    "\n",
    "with tf.Session() as sess:\n",
    "    init.run()\n",
    "    for epoch in range(n_epochs):\n",
    "        for iteration in range(train_data.num_examples // batch_size):\n",
    "            X_batch, y_batch = train_data.next_batch(batch_size)\n",
    "            #X_batch =X_batch.reshape(height*width*channels)\n",
    "            sess.run(training_op_nn, feed_dict={X: X_batch, y: y_batch, training: True})\n",
    "            if iteration % check_interval == 0:\n",
    "                loss_val = loss_nn.eval(feed_dict={X: X_val, y: y_val})\n",
    "                if loss_val < best_loss_val:\n",
    "                    best_loss_val = loss_val\n",
    "                    checks_since_last_progress = 0\n",
    "                    best_model_params = get_model_params()\n",
    "                else:\n",
    "                    checks_since_last_progress += 1\n",
    "        acc_train = accuracy.eval(feed_dict={X: X_batch, y: y_batch})\n",
    "        acc_val = accuracy.eval(feed_dict={X: X_val,y: y_val})\n",
    "        print(\"Epoch {}, train accuracy: {:.4f}%, valid. accuracy: {:.4f}%, valid. best loss: {:.6f}\".format(\n",
    "                  epoch, acc_train * 100, acc_val * 100, best_loss_val))\n",
    "        if checks_since_last_progress > max_checks_without_progress:\n",
    "            print(\"Early stopping!\")\n",
    "            break\n",
    "\n",
    "    if best_model_params:\n",
    "        restore_model_params(best_model_params)\n",
    "    save_path = saver.save(sess, \"./my_isd_model\")"
   ]
  },
  {
   "cell_type": "code",
   "execution_count": 37,
   "metadata": {
    "collapsed": false
   },
   "outputs": [
    {
     "name": "stdout",
     "output_type": "stream",
     "text": [
      "Test accuracy: 0.695833345254\n"
     ]
    }
   ],
   "source": [
    "#Evaluation\n",
    "test_batch_size = 80\n",
    "acc_test =[]\n",
    "with tf.Session() as sess:\n",
    "    saver.restore(sess,\"./my_isd_model\")\n",
    "    for iteration in range(test_data.num_examples // test_batch_size):\n",
    "        X_test, y_test = test_data.next_batch(test_batch_size)\n",
    "        acc_test.append(accuracy.eval(feed_dict={X: X_test, y:y_test}))\n",
    "\n",
    "\n",
    "print(\"Test accuracy:\", sum(acc_test)/len(acc_test))\n",
    "\n",
    "\n"
   ]
  },
  {
   "cell_type": "code",
   "execution_count": null,
   "metadata": {
    "collapsed": true
   },
   "outputs": [],
   "source": []
  }
 ],
 "metadata": {
  "kernelspec": {
   "display_name": "Python 3",
   "language": "python",
   "name": "python3"
  },
  "language_info": {
   "codemirror_mode": {
    "name": "ipython",
    "version": 3
   },
   "file_extension": ".py",
   "mimetype": "text/x-python",
   "name": "python",
   "nbconvert_exporter": "python",
   "pygments_lexer": "ipython3",
   "version": "3.6.0"
  }
 },
 "nbformat": 4,
 "nbformat_minor": 2
}
