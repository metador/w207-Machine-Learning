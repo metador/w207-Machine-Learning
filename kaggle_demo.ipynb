{
 "cells": [
  {
   "cell_type": "markdown",
   "metadata": {},
   "source": [
    "# Kaggle comp demo"
   ]
  },
  {
   "cell_type": "code",
   "execution_count": 2,
   "metadata": {
    "collapsed": false
   },
   "outputs": [],
   "source": [
    "# This tells matplotlib not to try opening a new window for each plot.\n",
    "%matplotlib inline\n",
    "\n",
    "# General libraries.\n",
    "import numpy as np\n",
    "import matplotlib.pyplot as plt\n",
    "import pandas as pd\n",
    "\n",
    "# SK-learn libraries for learning.\n",
    "from sklearn.pipeline import Pipeline\n",
    "from sklearn.neighbors import KNeighborsClassifier\n",
    "from sklearn.grid_search import GridSearchCV\n",
    "\n",
    "# SK-learn libraries for evaluation.\n",
    "from sklearn.metrics import confusion_matrix\n",
    "from sklearn import metrics\n",
    "from sklearn.metrics import classification_report"
   ]
  },
  {
   "cell_type": "markdown",
   "metadata": {},
   "source": [
    "Let's talk about how to enter a kaggle competition.\n",
    "Frist you sign up for kaggle.\n",
    "\n",
    "https://www.kaggle.com\n",
    "\n",
    "then, you find a competition. We'll use the MNIST digit data set!\n",
    "\n",
    "https://www.kaggle.com/c/digit-recognizer\n",
    "\n",
    "We now have a couple of csv files, test.csv, and train.csv\n",
    "\n",
    "Find where they live on your file system, and now we need to load the data:"
   ]
  },
  {
   "cell_type": "code",
   "execution_count": 3,
   "metadata": {
    "collapsed": false
   },
   "outputs": [
    {
     "name": "stdout",
     "output_type": "stream",
     "text": [
      "First rows of train data: \n",
      "   label  pixel0  pixel1  pixel2  pixel3  pixel4  pixel5  pixel6  pixel7  \\\n",
      "0      1       0       0       0       0       0       0       0       0   \n",
      "1      0       0       0       0       0       0       0       0       0   \n",
      "2      1       0       0       0       0       0       0       0       0   \n",
      "3      4       0       0       0       0       0       0       0       0   \n",
      "4      0       0       0       0       0       0       0       0       0   \n",
      "\n",
      "   pixel8  pixel9  pixel10  pixel11  pixel12  pixel13  pixel14  pixel15  \\\n",
      "0       0       0        0        0        0        0        0        0   \n",
      "1       0       0        0        0        0        0        0        0   \n",
      "2       0       0        0        0        0        0        0        0   \n",
      "3       0       0        0        0        0        0        0        0   \n",
      "4       0       0        0        0        0        0        0        0   \n",
      "\n",
      "   pixel16  pixel17  pixel18      \n",
      "0        0        0        0 ...  \n",
      "1        0        0        0 ...  \n",
      "2        0        0        0 ...  \n",
      "3        0        0        0 ...  \n",
      "4        0        0        0 ...  \n",
      "\n",
      "[5 rows x 785 columns]\n",
      "\n",
      "First rows of test data: \n",
      "   pixel0  pixel1  pixel2  pixel3  pixel4  pixel5  pixel6  pixel7  pixel8  \\\n",
      "0       0       0       0       0       0       0       0       0       0   \n",
      "1       0       0       0       0       0       0       0       0       0   \n",
      "2       0       0       0       0       0       0       0       0       0   \n",
      "3       0       0       0       0       0       0       0       0       0   \n",
      "4       0       0       0       0       0       0       0       0       0   \n",
      "\n",
      "   pixel9  pixel10  pixel11  pixel12  pixel13  pixel14  pixel15  pixel16  \\\n",
      "0       0        0        0        0        0        0        0        0   \n",
      "1       0        0        0        0        0        0        0        0   \n",
      "2       0        0        0        0        0        0        0        0   \n",
      "3       0        0        0        0        0        0        0        0   \n",
      "4       0        0        0        0        0        0        0        0   \n",
      "\n",
      "   pixel17  pixel18  pixel19      \n",
      "0        0        0        0 ...  \n",
      "1        0        0        0 ...  \n",
      "2        0        0        0 ...  \n",
      "3        0        0        0 ...  \n",
      "4        0        0        0 ...  \n",
      "\n",
      "[5 rows x 784 columns]\n",
      "[[1 0 0 0 0 0 0 0 0 0]\n",
      " [0 0 0 0 0 0 0 0 0 0]\n",
      " [1 0 0 0 0 0 0 0 0 0]\n",
      " [4 0 0 0 0 0 0 0 0 0]\n",
      " [0 0 0 0 0 0 0 0 0 0]\n",
      " [0 0 0 0 0 0 0 0 0 0]\n",
      " [7 0 0 0 0 0 0 0 0 0]\n",
      " [3 0 0 0 0 0 0 0 0 0]\n",
      " [5 0 0 0 0 0 0 0 0 0]\n",
      " [3 0 0 0 0 0 0 0 0 0]]\n",
      "\n",
      "[[0 0 0 0 0 0 0 0 0 0]\n",
      " [0 0 0 0 0 0 0 0 0 0]\n",
      " [0 0 0 0 0 0 0 0 0 0]\n",
      " [0 0 0 0 0 0 0 0 0 0]\n",
      " [0 0 0 0 0 0 0 0 0 0]\n",
      " [0 0 0 0 0 0 0 0 0 0]\n",
      " [0 0 0 0 0 0 0 0 0 0]\n",
      " [0 0 0 0 0 0 0 0 0 0]\n",
      " [0 0 0 0 0 0 0 0 0 0]\n",
      " [0 0 0 0 0 0 0 0 0 0]]\n",
      "\n",
      "[1 0 1 4 0 0 7 3 5 3]\n"
     ]
    }
   ],
   "source": [
    "train = pd.read_csv('train.csv')\n",
    "test = pd.read_csv('test.csv')\n",
    "sample_submission = pd.read_csv('sample_submission.csv')\n",
    "\n",
    "train_features = list(train.keys())\n",
    "\n",
    "\n",
    "print 'First rows of train data: \\n', train.head()\n",
    "print '\\nFirst rows of test data: \\n', test.head()\n",
    "\n",
    "Y = np.array(train['label'])\n",
    "X = train.values\n",
    "X_test = test.values\n",
    "\n",
    "print X[:10,:10]\n",
    "## Remove the first column of X, which is the label\n",
    "X = X[:,1:]\n",
    "print \n",
    "print X[:10,:10]\n",
    "print \n",
    "print Y[:10]\n",
    "\n",
    "n = X.shape[0]\n",
    "\n",
    "shuffle_index = range(n)\n",
    "np.random.shuffle(shuffle_index)\n",
    "\n",
    "X = X[shuffle_index,:]\n",
    "Y = Y[shuffle_index]\n",
    "\n",
    "n_train = int(0.8*n)\n",
    "X_train = X[:n_train,:]\n",
    "Y_train = Y[:n_train]\n",
    "X_dev = X[n_train:,:]\n",
    "Y_dev = Y[n_train:]\n"
   ]
  },
  {
   "cell_type": "markdown",
   "metadata": {},
   "source": [
    "Now, we train a model, let's just do KNN, no time to think!"
   ]
  },
  {
   "cell_type": "code",
   "execution_count": 4,
   "metadata": {
    "collapsed": false
   },
   "outputs": [],
   "source": [
    "kn = KNeighborsClassifier(n_neighbors=1)\n",
    "\n",
    "kn.fit(X_train[:1000,:], Y_train[:1000])\n",
    "\n",
    "# here's what we need to send back to Kaggle\n",
    "preds = kn.predict(X_test)"
   ]
  },
  {
   "cell_type": "markdown",
   "metadata": {},
   "source": [
    "Now we need to save the output to a textfile, and upload the results to kaggle!\n",
    "\n",
    "Read the data page to make you submission the right format:\n",
    "\n",
    "https://www.kaggle.com/c/digit-recognizer/data"
   ]
  },
  {
   "cell_type": "code",
   "execution_count": 7,
   "metadata": {
    "collapsed": false
   },
   "outputs": [
    {
     "name": "stdout",
     "output_type": "stream",
     "text": [
      "   ImageId  Label\n",
      "0        1      0\n",
      "1        2      0\n",
      "2        3      0\n",
      "3        4      0\n",
      "4        5      0\n",
      "\n",
      "[5 rows x 2 columns]\n"
     ]
    }
   ],
   "source": [
    "print sample_submission.head()\n",
    "\n",
    "imageId = range(1,X_test.shape[0]+1)\n",
    "d = {'ImageId': imageId, 'Label': preds}\n",
    "\n",
    "my_submission = pd.DataFrame(data = d)\n",
    "my_submission.to_csv('my_submission.csv', index = False)"
   ]
  },
  {
   "cell_type": "code",
   "execution_count": null,
   "metadata": {
    "collapsed": true
   },
   "outputs": [],
   "source": []
  }
 ],
 "metadata": {
  "anaconda-cloud": {},
  "kernelspec": {
   "display_name": "Python 2",
   "language": "python",
   "name": "python2"
  },
  "language_info": {
   "codemirror_mode": {
    "name": "ipython",
    "version": 2
   },
   "file_extension": ".py",
   "mimetype": "text/x-python",
   "name": "python",
   "nbconvert_exporter": "python",
   "pygments_lexer": "ipython2",
   "version": "2.7.6"
  }
 },
 "nbformat": 4,
 "nbformat_minor": 0
}
